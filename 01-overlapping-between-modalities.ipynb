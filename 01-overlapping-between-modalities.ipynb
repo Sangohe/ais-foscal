{
 "cells": [
  {
   "cell_type": "code",
   "execution_count": 2,
   "metadata": {},
   "outputs": [],
   "source": [
    "import numpy as np\n",
    "import matplotlib.pyplot as plt\n",
    "\n",
    "import os\n",
    "from glob import glob\n",
    "\n",
    "from utils.datasets.foscal.patient import FOSCALPatient\n",
    "from utils.preprocessing.numpy import get_idxs_of_annotated_slices\n",
    "from metrics import compute_segmentation_metrics"
   ]
  },
  {
   "cell_type": "markdown",
   "metadata": {},
   "source": [
    "# Load the data"
   ]
  },
  {
   "cell_type": "code",
   "execution_count": 3,
   "metadata": {},
   "outputs": [],
   "source": [
    "patients = []\n",
    "dset_dir = \"/data/Datasets/stroke/ISBI_FOSCAL/\"\n",
    "patient_dirs = glob(os.path.join(dset_dir, \"*\"))\n",
    "for patient_dir in patient_dirs:\n",
    "    patient = FOSCALPatient(patient_dir)\n",
    "    patients.append(patient)"
   ]
  },
  {
   "cell_type": "code",
   "execution_count": 3,
   "metadata": {},
   "outputs": [],
   "source": [
    "modalities = [\"ADC\", \"DWI\"]\n",
    "masks_daniel = patient.get_mask(modalities=modalities, radiologist=\"Daniel\")\n",
    "masks_andres = patient.get_mask(modalities=modalities, radiologist=\"Andres\")"
   ]
  },
  {
   "cell_type": "code",
   "execution_count": 4,
   "metadata": {},
   "outputs": [],
   "source": [
    "idxs_with_annotations = get_idxs_of_annotated_slices(masks_daniel[\"ADC\"])\n",
    "masks_daniel[\"ADC\"] = masks_daniel[\"ADC\"][..., idxs_with_annotations]"
   ]
  },
  {
   "cell_type": "code",
   "execution_count": 5,
   "metadata": {},
   "outputs": [
    {
     "data": {
      "text/plain": [
       "<matplotlib.image.AxesImage at 0x7fa4ca07c2b0>"
      ]
     },
     "execution_count": 5,
     "metadata": {},
     "output_type": "execute_result"
    },
    {
     "data": {
      "image/png": "[encoded data removed]",
      "text/plain": [
       "<Figure size 720x720 with 4 Axes>"
      ]
     },
     "metadata": {
      "needs_background": "light"
     },
     "output_type": "display_data"
    }
   ],
   "source": [
    "fig, axs = plt.subplots(2, 2, figsize=(10, 10))\n",
    "axs[0, 0].imshow(masks_daniel[\"ADC\"][..., 12], cmap=\"gray\")\n",
    "axs[0, 1].imshow(masks_daniel[\"DWI\"][..., 12], cmap=\"gray\")\n",
    "axs[1, 0].imshow(masks_andres[\"ADC\"][..., 12], cmap=\"gray\")\n",
    "axs[1, 1].imshow(masks_andres[\"DWI\"][..., 12], cmap=\"gray\")"
   ]
  },
  {
   "cell_type": "code",
   "execution_count": 6,
   "metadata": {},
   "outputs": [
    {
     "data": {
      "text/plain": [
       "<nibabel.nifti1.Nifti1Image at 0x7fa4ca13e9d0>"
      ]
     },
     "execution_count": 6,
     "metadata": {},
     "output_type": "execute_result"
    }
   ],
   "source": [
    "patient.adc_daniel_mask"
   ]
  },
  {
   "cell_type": "markdown",
   "metadata": {},
   "source": [
    "# Visualize some cases"
   ]
  },
  {
   "cell_type": "code",
   "execution_count": 7,
   "metadata": {},
   "outputs": [],
   "source": [
    "modalities = [\"ADC\", \"DWI\"]\n",
    "normalization = \"min_max\"\n",
    "data = patients[0].get_data(modalities=modalities, normalization=normalization)\n",
    "masks = patients[0].get_mask(modalities=modalities)"
   ]
  },
  {
   "cell_type": "code",
   "execution_count": 8,
   "metadata": {},
   "outputs": [
    {
     "data": {
      "text/plain": [
       "{'sens': 0.0,\n",
       " 'spec': 0.9998570315583333,\n",
       " 'ppv': 0.0,\n",
       " 'npv': 0.999799739893307,\n",
       " 'dsc': 0.0,\n",
       " 'avd': 0.33389544688026984,\n",
       " 'hd': 19.339079605813716}"
      ]
     },
     "execution_count": 8,
     "metadata": {},
     "output_type": "execute_result"
    }
   ],
   "source": [
    "compute_segmentation_metrics(masks[\"DWI\"], masks[\"ADC\"])"
   ]
  },
  {
   "cell_type": "markdown",
   "metadata": {},
   "source": [
    "# Agreement between radiologists using ADC masks"
   ]
  },
  {
   "cell_type": "code",
   "execution_count": 31,
   "metadata": {},
   "outputs": [
    {
     "name": "stdout",
     "output_type": "stream",
     "text": [
      "--------------------------------\n",
      "0 1727579\n",
      "1727826 174\n",
      "1727753 247\n",
      "1728000\n",
      "-0.00011816848811488544\n",
      "--------------------------------\n",
      "--------------------------------\n",
      "0 1638335\n",
      "1638358 42\n",
      "1638377 23\n",
      "1638400\n",
      "-1.8141854828931586e-05\n",
      "--------------------------------\n",
      "--------------------------------\n",
      "1660 1725647\n",
      "1726295 1705\n",
      "1725692 2308\n",
      "1728000\n",
      "0.8271150224182775\n",
      "--------------------------------\n",
      "--------------------------------\n",
      "295 1701984\n",
      "1703413 523\n",
      "1702212 1724\n",
      "1703936\n",
      "0.2622248331942775\n",
      "--------------------------------\n",
      "--------------------------------\n",
      "515 1702919\n",
      "1703247 689\n",
      "1703093 843\n",
      "1703936\n",
      "0.672177877355239\n",
      "--------------------------------\n",
      "--------------------------------\n",
      "235 1694995\n",
      "1695071 673\n",
      "1695433 311\n",
      "1695744\n",
      "0.47751119925547647\n",
      "--------------------------------\n",
      "--------------------------------\n",
      "125 1572616\n",
      "1572703 161\n",
      "1572652 212\n",
      "1572864\n",
      "0.6702029127330877\n",
      "--------------------------------\n",
      "--------------------------------\n",
      "104 1703676\n",
      "1703815 121\n",
      "1703693 243\n",
      "1703936\n",
      "0.5713879335180131\n",
      "--------------------------------\n",
      "--------------------------------\n",
      "348 1572285\n",
      "1572471 393\n",
      "1572330 534\n",
      "1572864\n",
      "0.7507373068173154\n",
      "--------------------------------\n",
      "--------------------------------\n",
      "7097 1563255\n",
      "1564664 8200\n",
      "1564358 8506\n",
      "1572864\n",
      "0.8488323257532953\n",
      "--------------------------------\n",
      "--------------------------------\n",
      "0 1572785\n",
      "1572833 31\n",
      "1572816 48\n",
      "1572864\n",
      "-2.3951079465363385e-05\n",
      "--------------------------------\n",
      "--------------------------------\n",
      "764 1570789\n",
      "1571809 1055\n",
      "1571080 1784\n",
      "1572864\n",
      "0.5378280774827557\n",
      "--------------------------------\n",
      "--------------------------------\n",
      "67 1703579\n",
      "1703836 100\n",
      "1703612 324\n",
      "1703936\n",
      "0.31597638409755024\n",
      "--------------------------------\n",
      "--------------------------------\n",
      "2109 1698574\n",
      "1700913 3023\n",
      "1699488 4448\n",
      "1703936\n",
      "0.5636612800409035\n",
      "--------------------------------\n",
      "kappa primedio: 0.4641067779459845\n"
     ]
    }
   ],
   "source": [
    "Kappas = []\n",
    "modality = \"ADC\"\n",
    "\n",
    "for patient in patients:\n",
    "    masks_daniel = np.expand_dims(patient.get_mask(modalities=[modality], radiologist=\"Daniel\")[modality], axis=2)\n",
    "    masks_andres = np.expand_dims(patient.get_mask(modalities=[modality], radiologist=\"Andres\")[modality], axis=2)\n",
    "\n",
    "    dims = np.shape(masks_daniel)\n",
    "    total = dims[0]*dims[1]*dims[2]*dims[3]\n",
    "\n",
    "    andres_0 = np.sum(masks_andres == 0)\n",
    "    daniel_0 = np.sum(masks_daniel == 0)\n",
    "    andres_1 = np.sum(masks_andres == 1)\n",
    "    daniel_1 = np.sum(masks_daniel == 1)\n",
    "\n",
    "    andres_daniel_0 = np.sum(np.sum(np.concatenate((masks_andres == 0, masks_daniel == 0), axis=2), axis=2) == 2)\n",
    "    andres_daniel_1 = np.sum(np.sum(np.concatenate((masks_andres == 1, masks_daniel == 1), axis=2), axis=2) == 2)\n",
    "\n",
    "    p_0  = (andres_daniel_0 + andres_daniel_1)/total\n",
    "    si_a = (andres_1/total) * (daniel_1/total)\n",
    "    no_a = (andres_0/total) * (daniel_0/total)\n",
    "    p_e  = si_a + no_a\n",
    "    kappa = (p_0 - p_e)/(1 - p_e)\n",
    "\n",
    "    Kappas.append(kappa)\n",
    "    print(\"--------------------------------\")\n",
    "    print(andres_daniel_1, andres_daniel_0)\n",
    "    print(andres_0, andres_1)\n",
    "    print(daniel_0, daniel_1)\n",
    "    print(total)\n",
    "    print(kappa)\n",
    "    print(\"--------------------------------\")\n",
    "\n",
    "print(\"kappa primedio:\",np.mean(Kappas))\n",
    "    \n",
    "    "
   ]
  },
  {
   "cell_type": "markdown",
   "metadata": {},
   "source": [
    "# Agreement between radiologists using DWI masks"
   ]
  },
  {
   "cell_type": "code",
   "execution_count": 32,
   "metadata": {},
   "outputs": [
    {
     "name": "stdout",
     "output_type": "stream",
     "text": [
      "--------------------------------\n",
      "272 1727635\n",
      "1727709 291\n",
      "1727654 346\n",
      "1728000\n",
      "0.8539764257193607\n",
      "--------------------------------\n",
      "--------------------------------\n",
      "0 1638323\n",
      "1638324 76\n",
      "1638399 1\n",
      "1638400\n",
      "-1.2048527860985651e-06\n",
      "--------------------------------\n",
      "--------------------------------\n",
      "2393 1724617\n",
      "1725536 2464\n",
      "1724688 3312\n",
      "1728000\n",
      "0.8283203650660431\n",
      "--------------------------------\n",
      "--------------------------------\n",
      "3717 1698472\n",
      "1699473 4463\n",
      "1699218 4718\n",
      "1703936\n",
      "0.809202093419899\n",
      "--------------------------------\n",
      "--------------------------------\n",
      "694 1701798\n",
      "1703143 793\n",
      "1701897 2039\n",
      "1703936\n",
      "0.4897710629643125\n",
      "--------------------------------\n",
      "--------------------------------\n",
      "0 1688348\n",
      "1691728 4016\n",
      "1692364 3380\n",
      "1695744\n",
      "-0.00216932346185476\n",
      "--------------------------------\n",
      "--------------------------------\n",
      "0 1570232\n",
      "1572294 570\n",
      "1570802 2062\n",
      "1572864\n",
      "-0.0005681501549402575\n",
      "--------------------------------\n",
      "--------------------------------\n",
      "0 1703468\n",
      "1703764 172\n",
      "1703640 296\n",
      "1703936\n",
      "-0.00012770458220268298\n",
      "--------------------------------\n",
      "--------------------------------\n",
      "1162 1571172\n",
      "1571534 1330\n",
      "1571340 1524\n",
      "1572864\n",
      "0.8141278697348462\n",
      "--------------------------------\n",
      "--------------------------------\n",
      "9259 1561761\n",
      "1562352 10512\n",
      "1563014 9850\n",
      "1572864\n",
      "0.9088497681629005\n",
      "--------------------------------\n",
      "--------------------------------\n",
      "49 1572789\n",
      "1572801 63\n",
      "1572803 61\n",
      "1572864\n",
      "0.7903143172916902\n",
      "--------------------------------\n",
      "--------------------------------\n",
      "1787 1570136\n",
      "1570483 2381\n",
      "1570730 2134\n",
      "1572864\n",
      "0.7912849422103463\n",
      "--------------------------------\n",
      "--------------------------------\n",
      "215 1703557\n",
      "1703711 225\n",
      "1703567 369\n",
      "1703936\n",
      "0.7238604208165174\n",
      "--------------------------------\n",
      "--------------------------------\n",
      "4574 1696878\n",
      "1698794 5142\n",
      "1697446 6490\n",
      "1703936\n",
      "0.7857296278518557\n",
      "--------------------------------\n",
      "kappa primedio: 0.5566121792989991\n"
     ]
    }
   ],
   "source": [
    "Kappas = []\n",
    "modality = \"DWI\"\n",
    "\n",
    "for patient in patients:\n",
    "    masks_daniel = np.expand_dims(patient.get_mask(modalities=[modality], radiologist=\"Daniel\")[modality], axis=2)\n",
    "    masks_andres = np.expand_dims(patient.get_mask(modalities=[modality], radiologist=\"Andres\")[modality], axis=2)\n",
    "\n",
    "    dims = np.shape(masks_daniel)\n",
    "    total = dims[0]*dims[1]*dims[2]*dims[3]\n",
    "\n",
    "    andres_0 = np.sum(masks_andres == 0)\n",
    "    daniel_0 = np.sum(masks_daniel == 0)\n",
    "    andres_1 = np.sum(masks_andres == 1)\n",
    "    daniel_1 = np.sum(masks_daniel == 1)\n",
    "\n",
    "    andres_daniel_0 = np.sum(np.sum(np.concatenate((masks_andres == 0, masks_daniel == 0), axis=2), axis=2) == 2)\n",
    "    andres_daniel_1 = np.sum(np.sum(np.concatenate((masks_andres == 1, masks_daniel == 1), axis=2), axis=2) == 2)\n",
    "\n",
    "    p_0  = (andres_daniel_0 + andres_daniel_1)/total\n",
    "    si_a = (andres_1/total) * (daniel_1/total)\n",
    "    no_a = (andres_0/total) * (daniel_0/total)\n",
    "    p_e  = si_a + no_a\n",
    "    kappa = (p_0 - p_e)/(1 - p_e)\n",
    "\n",
    "    Kappas.append(kappa)\n",
    "    print(\"--------------------------------\")\n",
    "    print(andres_daniel_1, andres_daniel_0)\n",
    "    print(andres_0, andres_1)\n",
    "    print(daniel_0, daniel_1)\n",
    "    print(total)\n",
    "    print(kappa)\n",
    "    print(\"--------------------------------\")\n",
    "\n",
    "print(\"kappa primedio:\",np.mean(Kappas))"
   ]
  },
  {
   "cell_type": "markdown",
   "metadata": {},
   "source": [
    "# Agreement between ADC and DWI masks of the same radiologist"
   ]
  },
  {
   "cell_type": "code",
   "execution_count": 33,
   "metadata": {},
   "outputs": [
    {
     "name": "stdout",
     "output_type": "stream",
     "text": [
      "--------------------------------\n",
      "0 1727462\n",
      "1727709 291\n",
      "1727753 247\n",
      "1728000\n",
      "-0.00015465397375003892\n",
      "--------------------------------\n",
      "--------------------------------\n",
      "0 1638301\n",
      "1638324 76\n",
      "1638377 23\n",
      "1638400\n",
      "-2.155389048636569e-05\n",
      "--------------------------------\n",
      "--------------------------------\n",
      "1846 1725074\n",
      "1725536 2464\n",
      "1725692 2308\n",
      "1728000\n",
      "0.773367201620597\n",
      "--------------------------------\n",
      "--------------------------------\n",
      "1239 1698988\n",
      "1699473 4463\n",
      "1702212 1724\n",
      "1703936\n",
      "0.39964087506586665\n",
      "--------------------------------\n",
      "--------------------------------\n",
      "354 1702654\n",
      "1703143 793\n",
      "1703093 843\n",
      "1703936\n",
      "0.43249064929711645\n",
      "--------------------------------\n",
      "--------------------------------\n",
      "266 1691683\n",
      "1691728 4016\n",
      "1695433 311\n",
      "1695744\n",
      "0.12265024293024256\n",
      "--------------------------------\n",
      "--------------------------------\n",
      "200 1572282\n",
      "1572294 570\n",
      "1572652 212\n",
      "1572864\n",
      "0.5114129484210784\n",
      "--------------------------------\n",
      "--------------------------------\n",
      "98 1703619\n",
      "1703764 172\n",
      "1703693 243\n",
      "1703936\n",
      "0.47222676724181234\n",
      "--------------------------------\n",
      "--------------------------------\n",
      "434 1571434\n",
      "1571534 1330\n",
      "1572330 534\n",
      "1572864\n",
      "0.46540623012201904\n",
      "--------------------------------\n",
      "--------------------------------\n",
      "7912 1561758\n",
      "1562352 10512\n",
      "1564358 8506\n",
      "1572864\n",
      "0.831043756320742\n",
      "--------------------------------\n",
      "--------------------------------\n",
      "0 1572753\n",
      "1572801 63\n",
      "1572816 48\n",
      "1572864\n",
      "-3.464277524922178e-05\n",
      "--------------------------------\n",
      "--------------------------------\n",
      "1395 1570094\n",
      "1570483 2381\n",
      "1571080 1784\n",
      "1572864\n",
      "0.669439271029877\n",
      "--------------------------------\n",
      "--------------------------------\n",
      "152 1703539\n",
      "1703711 225\n",
      "1703612 324\n",
      "1703936\n",
      "0.5536644965229929\n",
      "--------------------------------\n",
      "--------------------------------\n",
      "2818 1697164\n",
      "1698794 5142\n",
      "1699488 4448\n",
      "1703936\n",
      "0.5865380975571385\n",
      "--------------------------------\n",
      "kappa primedio: 0.415547834677857\n"
     ]
    }
   ],
   "source": [
    "Kappas = []\n",
    "\n",
    "for patient in patients:\n",
    "    masks_daniel = np.expand_dims(patient.get_mask(modalities=['ADC'], radiologist=\"Daniel\")['ADC'], axis=2)\n",
    "    masks_andres = np.expand_dims(patient.get_mask(modalities=['DWI'], radiologist=\"Andres\")['DWI'], axis=2)\n",
    "\n",
    "    dims = np.shape(masks_daniel)\n",
    "    total = dims[0]*dims[1]*dims[2]*dims[3]\n",
    "\n",
    "    andres_0 = np.sum(masks_andres == 0)\n",
    "    daniel_0 = np.sum(masks_daniel == 0)\n",
    "    andres_1 = np.sum(masks_andres == 1)\n",
    "    daniel_1 = np.sum(masks_daniel == 1)\n",
    "\n",
    "    andres_daniel_0 = np.sum(np.sum(np.concatenate((masks_andres == 0, masks_daniel == 0), axis=2), axis=2) == 2)\n",
    "    andres_daniel_1 = np.sum(np.sum(np.concatenate((masks_andres == 1, masks_daniel == 1), axis=2), axis=2) == 2)\n",
    "\n",
    "    p_0  = (andres_daniel_0 + andres_daniel_1)/total\n",
    "    si_a = (andres_1/total) * (daniel_1/total)\n",
    "    no_a = (andres_0/total) * (daniel_0/total)\n",
    "    p_e  = si_a + no_a\n",
    "    kappa = (p_0 - p_e)/(1 - p_e)\n",
    "\n",
    "    Kappas.append(kappa)\n",
    "    print(\"--------------------------------\")\n",
    "    print(andres_daniel_1, andres_daniel_0)\n",
    "    print(andres_0, andres_1)\n",
    "    print(daniel_0, daniel_1)\n",
    "    print(total)\n",
    "    print(kappa)\n",
    "    print(\"--------------------------------\")\n",
    "\n",
    "print(\"kappa primedio:\",np.mean(Kappas))"
   ]
  }
 ],
 "metadata": {
  "kernelspec": {
   "display_name": "Python 3.8.12 ('base')",
   "language": "python",
   "name": "python3"
  },
  "language_info": {
   "codemirror_mode": {
    "name": "ipython",
    "version": 3
   },
   "file_extension": ".py",
   "mimetype": "text/x-python",
   "name": "python",
   "nbconvert_exporter": "python",
   "pygments_lexer": "ipython3",
   "version": "3.8.12"
  },
  "vscode": {
   "interpreter": {
    "hash": "d4d1e4263499bec80672ea0156c357c1ee493ec2b1c70f0acce89fc37c4a6abe"
   }
  }
 },
 "nbformat": 4,
 "nbformat_minor": 4
}
