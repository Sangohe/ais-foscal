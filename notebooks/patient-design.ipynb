{
 "cells": [
  {
   "cell_type": "code",
   "execution_count": 1,
   "metadata": {},
   "outputs": [],
   "source": [
    "import numpy as np\n",
    "import nibabel as nib\n",
    "\n",
    "import os\n",
    "import sys\n",
    "from glob import glob\n",
    "from typing import List, Optional, Dict\n",
    "\n",
    "sys.path.append(\"..\")\n",
    "from utils.preprocessing.numpy import z_normalization, min_max_normalization"
   ]
  },
  {
   "cell_type": "code",
   "execution_count": 19,
   "metadata": {},
   "outputs": [],
   "source": [
    "class FOSCALPatient:\n",
    "    \"\"\" \"Utility class for loading the information of a patient.\"\"\"\n",
    "\n",
    "    def __init__(self, patient_dir: str) -> None:\n",
    "\n",
    "        if os.path.isdir(patient_dir):\n",
    "            self.patient_dir = patient_dir\n",
    "            self.patient_id = patient_dir.split(\"/\")[-1]\n",
    "            self.content = os.listdir(patient_dir)\n",
    "\n",
    "            self.load_niftis()\n",
    "        else:\n",
    "            raise ValueError(\"patient_dir does not exist or is not a directory.\")\n",
    "\n",
    "    def load_niftis(self) -> None:\n",
    "        \"\"\"Traverse the directories inside paient_dir and load the nifti data.\"\"\"\n",
    "\n",
    "        for modality in [\"adc\", \"dwi\"]:\n",
    "            self.load_modality(modality)\n",
    "            for radiologist in [\"Daniel\", \"Andres\"]:\n",
    "                self.load_mask(modality, radiologist)\n",
    "\n",
    "    def get_data(\n",
    "        self,\n",
    "        modalities: List[str] = [\"ADC\", \"DWI\"],\n",
    "        normalization: Optional[str] = None,\n",
    "    ) -> Dict[str, np.ndarray]:\n",
    "        \"\"\"Returns a list with the modalities\"\"\"\n",
    "\n",
    "        if normalization not in [None, \"z\", \"min_max\"]:\n",
    "            raise ValueError(\"normalization kwarg has to be one of None, z or min_max.\")\n",
    "\n",
    "        if normalization == \"z\":\n",
    "            norm_fn = z_normalization\n",
    "        elif normalization == \"min_max\":\n",
    "            norm_fn = min_max_normalization\n",
    "\n",
    "        data = {}\n",
    "        for modality in modalities:\n",
    "            modality_data = getattr(self, modality.lower()).get_fdata()\n",
    "            if modality_data.ndim == 4:\n",
    "                modality_data = modality_data[..., 0]\n",
    "            modality_data = modality_data.astype(np.float32)\n",
    "            if normalization is not None:\n",
    "                modality_data = norm_fn(modality_data)\n",
    "            data[modality] = modality_data\n",
    "        return data\n",
    "\n",
    "    def get_mask(self, modalities: List[str] = [\"ADC\", \"DWI\"],) -> Dict[str, np.ndarray]:\n",
    "        \"\"\"Returns the OT data within a dictionary. Implemented because the\n",
    "        normalization kwarg could case problems when returning the OT\n",
    "        with the get_data function.\"\"\"\n",
    "        masks = {}\n",
    "        for modality in modalities:\n",
    "            modality_mask = getattr(self, f\"{modality.lower()}_mask\").get_fdata()\n",
    "            modality_mask = modality_mask.astype(np.float32)\n",
    "            masks[modality] = modality_mask\n",
    "        return masks\n",
    "\n",
    "    def load_modality(self, modality_name: str):\n",
    "        \n",
    "        content = [os.path.join(self.patient_dir, p) for p in self.content]\n",
    "        content = [p for p in content if os.path.isdir(p)]\n",
    "\n",
    "        modality_matches = [p for p in content if modality_name in p.lower()]\n",
    "        assert len(modality_matches) > 0, f\"Could not found {modality_name.upper()} directory.\"\n",
    "        assert len(modality_matches) == 1, f\"Found more than one {modality_name.upper()} directory.\"\n",
    "        modality_dir = modality_matches[0]\n",
    "\n",
    "        modality_dir_content = glob(os.path.join(modality_dir, \"*.nii*\"))\n",
    "        assert len(modality_dir_content) == 1, f\"Found more than one {modality_name.upper()} path.\"\n",
    "        modality_nifti = nib.load(modality_dir_content[0])\n",
    "        \n",
    "        setattr(self, f\"{modality_name}_path\", modality_dir_content[0])\n",
    "        setattr(self, modality_name, modality_nifti)\n",
    "        setattr(self, f\"{modality_name}_shape\", modality_nifti.shape)\n",
    "\n",
    "    def load_mask(self, modality_name: str, radiologist: str):\n",
    "        masks_dir = os.path.join(self.patient_dir, \"Masks\", radiologist)\n",
    "        masks_dir_content = [os.path.join(masks_dir, p) for p in os.listdir(masks_dir)]\n",
    "\n",
    "        if modality_name == \"dwi\":\n",
    "            def cond(path):\n",
    "                return \"dwi\" in path.lower() or \"1000\" in path.lower()\n",
    "        elif modality_name == \"adc\":\n",
    "            def cond(path):\n",
    "                return \"adc\" in path.lower()\n",
    "\n",
    "        modality_mask_matches = [p for p in masks_dir_content if cond(p)]\n",
    "        if len(modality_mask_matches) == 0: \n",
    "            print(f\"Could not found {modality_name.upper()} mask for {radiologist}.\")\n",
    "        if len(modality_mask_matches) > 1: \n",
    "            print(f\"Found more than one {modality_name.upper()} mask for {radiologist}.\")\n",
    "        modality_mask_path = modality_mask_matches[0]\n",
    "\n",
    "        modality_mask = nib.load(modality_mask_path)\n",
    "        setattr(self, f\"{modality_name}_mask_path\", modality_mask_path)\n",
    "        setattr(self, f\"{modality_name}_mask\", modality_mask)\n",
    "\n",
    "        modality = getattr(self, modality_name)\n",
    "        shape_is_equal = modality.shape == modality_mask.shape\n",
    "        if not shape_is_equal and modality_name != \"dwi\":\n",
    "            print(f\"{modality_name} and mask shapes do not match -> {modality.shape} != {modality_mask.shape}\")"
   ]
  },
  {
   "cell_type": "code",
   "execution_count": 20,
   "metadata": {},
   "outputs": [
    {
     "name": "stdout",
     "output_type": "stream",
     "text": [
      "ACV-033\n",
      "ACV-044\n",
      "ACV-043\n",
      "ACV-034\n",
      "ACV-006\n",
      "ACV-005\n",
      "ACV-051\n",
      "ACV-014\n",
      "ACV-019\n",
      "ACV-021\n",
      "ACV-052\n",
      "ACV-036\n",
      "ACV-031\n",
      "ACV-046\n"
     ]
    }
   ],
   "source": [
    "dset_dir = \"/data/Datasets/stroke/ISBI_FOSCAL/\"\n",
    "patient_dirs = glob(os.path.join(dset_dir, \"*\"))\n",
    "for patient_dir in patient_dirs:\n",
    "    print(os.path.basename(patient_dir))\n",
    "    patient = FOSCALPatient(patient_dir)"
   ]
  },
  {
   "cell_type": "code",
   "execution_count": 21,
   "metadata": {},
   "outputs": [],
   "source": [
    "data = patient.get_data(modalities=[\"ADC\", \"DWI\"])\n",
    "masks = patient.get_mask(modalities=[\"ADC\", \"DWI\"])"
   ]
  },
  {
   "cell_type": "code",
   "execution_count": 22,
   "metadata": {},
   "outputs": [
    {
     "name": "stdout",
     "output_type": "stream",
     "text": [
      "ADC (256, 256, 26)\n",
      "DWI (256, 256, 26)\n"
     ]
    }
   ],
   "source": [
    "for k, v in data.items():\n",
    "    print(k, v.shape)"
   ]
  },
  {
   "cell_type": "code",
   "execution_count": 8,
   "metadata": {},
   "outputs": [
    {
     "data": {
      "text/plain": [
       "['2021-12-22-NCCT',\n",
       " '2021-12-21-ADC (10^-6 mm²s)',\n",
       " 'Documento sin título.docx',\n",
       " 'Masks',\n",
       " '2021-12-21-Ax DWI B-1000',\n",
       " '2021-12-21-Ax T2 GRE']"
      ]
     },
     "execution_count": 8,
     "metadata": {},
     "output_type": "execute_result"
    }
   ],
   "source": []
  },
  {
   "cell_type": "code",
   "execution_count": null,
   "metadata": {},
   "outputs": [],
   "source": []
  },
  {
   "cell_type": "code",
   "execution_count": null,
   "metadata": {},
   "outputs": [],
   "source": []
  }
 ],
 "metadata": {
  "kernelspec": {
   "display_name": "Python 3.8.10 64-bit",
   "language": "python",
   "name": "python3"
  },
  "language_info": {
   "codemirror_mode": {
    "name": "ipython",
    "version": 3
   },
   "file_extension": ".py",
   "mimetype": "text/x-python",
   "name": "python",
   "nbconvert_exporter": "python",
   "pygments_lexer": "ipython3",
   "version": "3.8.10"
  },
  "orig_nbformat": 4,
  "vscode": {
   "interpreter": {
    "hash": "916dbcbb3f70747c44a77c7bcd40155683ae19c65e1c03b4aa3499c5328201f1"
   }
  }
 },
 "nbformat": 4,
 "nbformat_minor": 2
}
