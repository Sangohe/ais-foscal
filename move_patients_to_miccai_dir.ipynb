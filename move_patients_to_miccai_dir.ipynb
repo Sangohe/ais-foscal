{
 "cells": [
  {
   "cell_type": "code",
   "execution_count": 4,
   "metadata": {},
   "outputs": [],
   "source": [
    "import os\n",
    "import shutil\n",
    "from glob import glob"
   ]
  },
  {
   "attachments": {},
   "cell_type": "markdown",
   "metadata": {},
   "source": [
    "# Utils"
   ]
  },
  {
   "cell_type": "code",
   "execution_count": 5,
   "metadata": {},
   "outputs": [],
   "source": [
    "def exists(obj):\n",
    "    return obj is not None\n",
    "\n",
    "def glob_dirs(regex: str):\n",
    "    \"\"\"Returns a list of directories that follow `regex`.\"\"\"\n",
    "    return [p for p in glob(regex) if os.path.isdir(p)]\n",
    "\n",
    "def get_first_match_for_substring(list_, substring: str):\n",
    "    \"\"\"Returns the first element in `list_` that matches.\"\"\"\n",
    "    match = None\n",
    "    for elem in list_:\n",
    "        if substring in elem:\n",
    "            match = elem\n",
    "            break\n",
    "    return match\n",
    "\n",
    "def copytree(src, dst, symlinks=False, ignore=None):\n",
    "    for item in os.listdir(src):\n",
    "        s = os.path.join(src, item)\n",
    "        d = os.path.join(dst, item)\n",
    "        if os.path.isdir(s):\n",
    "            shutil.copytree(s, d, symlinks, ignore)\n",
    "        else:\n",
    "            shutil.copy2(s, d)"
   ]
  },
  {
   "attachments": {},
   "cell_type": "markdown",
   "metadata": {},
   "source": [
    "# Move the patients from ISBI_FOSCAL to MICCAI"
   ]
  },
  {
   "cell_type": "code",
   "execution_count": 7,
   "metadata": {},
   "outputs": [],
   "source": [
    "src_dir = \"/data/Datasets/stroke/ISBI_FOSCAL/\"\n",
    "dest_dir = \"/data/Datasets/stroke/MICCAI/\"\n",
    "train_dest_dir = os.path.join(dest_dir, \"train\")\n",
    "test_dest_dir = os.path.join(dest_dir, \"test\")\n",
    "\n",
    "# Txt files with the patients to be moved to the train and test folders.\n",
    "train_txt = \"/home/sangohe/projects/isbi2023-foscal/splits/train_patients.txt\"\n",
    "test_txt = \"/home/sangohe/projects/isbi2023-foscal/splits/test_patients.txt\"\n",
    "\n",
    "with open(train_txt, \"r\") as f:\n",
    "    train_patients = f.read().splitlines()\n",
    "    \n",
    "    for train_patient in train_patients:\n",
    "        train_patient_dir = os.path.join(src_dir, train_patient)\n",
    "        train_patient_dest_dir = os.path.join(train_dest_dir, train_patient)\n",
    "        os.makedirs(train_patient_dest_dir, exist_ok=True)\n",
    "\n",
    "        patient_content = glob_dirs(os.path.join(train_patient_dir, \"*\"))\n",
    "        adc_dir = get_first_match_for_substring(patient_content, \"ADC\")\n",
    "        dwi_dir = get_first_match_for_substring(patient_content, \"DWI\")\n",
    "        masks_dir = get_first_match_for_substring(patient_content, \"Masks\")\n",
    "\n",
    "        adc_dest_dir = os.path.join(train_patient_dest_dir, os.path.basename(adc_dir))\n",
    "        dwi_dest_dir = os.path.join(train_patient_dest_dir, os.path.basename(dwi_dir))\n",
    "        masks_dest_dir = os.path.join(train_patient_dest_dir, os.path.basename(masks_dir))\n",
    "        \n",
    "        os.makedirs(adc_dest_dir, exist_ok=True)\n",
    "        os.makedirs(dwi_dest_dir, exist_ok=True)\n",
    "\n",
    "        shutil.copy(os.path.join(adc_dir, \"ADC.nii.gz\"), adc_dest_dir)\n",
    "        dwi_content = glob(os.path.join(dwi_dir, \"*.nii.gz\"))\n",
    "        dwi_match = get_first_match_for_substring(dwi_content, \".nii.gz\")\n",
    "        shutil.copy(dwi_match, os.path.join(dwi_dest_dir, \"DWI.nii.gz\"))\n",
    "        copytree(masks_dir, masks_dest_dir, ignore=shutil.ignore_patterns('*.nii', \"*NCCT*\"))\n",
    "\n",
    "\n",
    "with open(test_txt, \"r\") as f:\n",
    "    test_patients = f.read().splitlines()\n",
    "    \n",
    "    for test_patient in test_patients:\n",
    "        test_patient_dir = os.path.join(src_dir, test_patient)\n",
    "        test_patient_dest_dir = os.path.join(test_dest_dir, test_patient)\n",
    "        os.makedirs(test_patient_dest_dir, exist_ok=True)\n",
    "\n",
    "        patient_content = glob_dirs(os.path.join(test_patient_dir, \"*\"))\n",
    "        adc_dir = get_first_match_for_substring(patient_content, \"ADC\")\n",
    "        dwi_dir = get_first_match_for_substring(patient_content, \"DWI\")\n",
    "        masks_dir = get_first_match_for_substring(patient_content, \"Masks\")\n",
    "\n",
    "        adc_dest_dir = os.path.join(test_patient_dest_dir, os.path.basename(adc_dir))\n",
    "        dwi_dest_dir = os.path.join(test_patient_dest_dir, os.path.basename(dwi_dir))\n",
    "        masks_dest_dir = os.path.join(test_patient_dest_dir, os.path.basename(masks_dir))\n",
    "        \n",
    "        os.makedirs(adc_dest_dir, exist_ok=True)\n",
    "        os.makedirs(dwi_dest_dir, exist_ok=True)\n",
    "\n",
    "        shutil.copy(os.path.join(adc_dir, \"ADC.nii.gz\"), adc_dest_dir)\n",
    "        dwi_content = glob(os.path.join(dwi_dir, \"*.nii.gz\"))\n",
    "        dwi_match = get_first_match_for_substring(dwi_content, \".nii.gz\")\n",
    "        shutil.copy(dwi_match, os.path.join(dwi_dest_dir, \"DWI.nii.gz\"))\n",
    "        copytree(masks_dir, masks_dest_dir, ignore=shutil.ignore_patterns('*.nii', \"*NCCT*\"))"
   ]
  },
  {
   "cell_type": "code",
   "execution_count": null,
   "metadata": {},
   "outputs": [],
   "source": []
  }
 ],
 "metadata": {
  "kernelspec": {
   "display_name": "Python 3",
   "language": "python",
   "name": "python3"
  },
  "language_info": {
   "codemirror_mode": {
    "name": "ipython",
    "version": 3
   },
   "file_extension": ".py",
   "mimetype": "text/x-python",
   "name": "python",
   "nbconvert_exporter": "python",
   "pygments_lexer": "ipython3",
   "version": "3.8.10"
  },
  "orig_nbformat": 4
 },
 "nbformat": 4,
 "nbformat_minor": 2
}
