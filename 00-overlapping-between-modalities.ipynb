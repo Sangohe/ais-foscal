{
 "cells": [
  {
   "cell_type": "code",
   "execution_count": 16,
   "metadata": {},
   "outputs": [],
   "source": [
    "import numpy as np\n",
    "import matplotlib.pyplot as plt\n",
    "\n",
    "import os\n",
    "from glob import glob\n",
    "\n",
    "from utils.datasets.foscal.patient import FOSCALPatient\n",
    "from metrics import compute_segmentation_metrics"
   ]
  },
  {
   "cell_type": "markdown",
   "metadata": {},
   "source": [
    "# Load the data"
   ]
  },
  {
   "cell_type": "code",
   "execution_count": 3,
   "metadata": {},
   "outputs": [],
   "source": [
    "patients = []\n",
    "dset_dir = \"/data/Datasets/stroke/ISBI_FOSCAL/\"\n",
    "patient_dirs = glob(os.path.join(dset_dir, \"*\"))\n",
    "for patient_dir in patient_dirs:\n",
    "    patient = FOSCALPatient(patient_dir)\n",
    "    patients.append(patient)"
   ]
  },
  {
   "cell_type": "markdown",
   "metadata": {},
   "source": [
    "# Visualize some cases"
   ]
  },
  {
   "cell_type": "code",
   "execution_count": 7,
   "metadata": {},
   "outputs": [],
   "source": [
    "modalities = [\"ADC\", \"DWI\"]\n",
    "normalization = \"min_max\"\n",
    "data = patients[0].get_data(modalities=modalities, normalization=normalization)\n",
    "masks = patients[0].get_mask(modalities=modalities)"
   ]
  },
  {
   "cell_type": "code",
   "execution_count": 17,
   "metadata": {},
   "outputs": [
    {
     "data": {
      "text/plain": [
       "{'sens': 0.5670103090460725,\n",
       " 'spec': 0.9999947907893522,\n",
       " 'ppv': 0.9482758614192914,\n",
       " 'npv': 0.9999270759902217,\n",
       " 'dsc': 0.7096836627169308,\n",
       " 'avd': 0.5032258064516129,\n",
       " 'hd': 135.24052647043342}"
      ]
     },
     "execution_count": 17,
     "metadata": {},
     "output_type": "execute_result"
    }
   ],
   "source": [
    "compute_segmentation_metrics(masks[\"DWI\"], masks[\"ADC\"])"
   ]
  },
  {
   "cell_type": "markdown",
   "metadata": {},
   "source": [
    "# Agreement between radiologists using ADC masks"
   ]
  },
  {
   "cell_type": "code",
   "execution_count": null,
   "metadata": {},
   "outputs": [],
   "source": []
  },
  {
   "cell_type": "markdown",
   "metadata": {},
   "source": [
    "# Agreement between radiologists using DWI masks"
   ]
  },
  {
   "cell_type": "code",
   "execution_count": null,
   "metadata": {},
   "outputs": [],
   "source": []
  },
  {
   "cell_type": "markdown",
   "metadata": {},
   "source": [
    "# Agreement between ADC and DWI masks of the same radiologist"
   ]
  },
  {
   "cell_type": "code",
   "execution_count": null,
   "metadata": {},
   "outputs": [],
   "source": []
  }
 ],
 "metadata": {
  "kernelspec": {
   "display_name": "Python 3",
   "language": "python",
   "name": "python3"
  },
  "language_info": {
   "codemirror_mode": {
    "name": "ipython",
    "version": 3
   },
   "file_extension": ".py",
   "mimetype": "text/x-python",
   "name": "python",
   "nbconvert_exporter": "python",
   "pygments_lexer": "ipython3",
   "version": "3.8.10"
  },
  "vscode": {
   "interpreter": {
    "hash": "916dbcbb3f70747c44a77c7bcd40155683ae19c65e1c03b4aa3499c5328201f1"
   }
  }
 },
 "nbformat": 4,
 "nbformat_minor": 4
}
