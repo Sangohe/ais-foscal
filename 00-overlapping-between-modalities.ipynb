{
 "cells": [
  {
   "cell_type": "code",
   "execution_count": 13,
   "metadata": {},
   "outputs": [],
   "source": [
    "import numpy as np\n",
    "import matplotlib.pyplot as plt\n",
    "%matplotlib inline\n",
    "\n",
    "import os\n",
    "from glob import glob\n",
    "\n",
    "from utils.datasets.foscal.patient import FOSCALPatient\n",
    "from utils.preprocessing.numpy import get_idxs_of_annotated_slices\n",
    "from metrics import compute_segmentation_metrics"
   ]
  },
  {
   "cell_type": "markdown",
   "metadata": {},
   "source": [
    "# Load the data"
   ]
  },
  {
   "cell_type": "code",
   "execution_count": 2,
   "metadata": {},
   "outputs": [],
   "source": [
    "patients = []\n",
    "dset_dir = \"/data/Datasets/stroke/ISBI_FOSCAL/\"\n",
    "patient_dirs = glob(os.path.join(dset_dir, \"*\"))\n",
    "for patient_dir in patient_dirs:\n",
    "    patient = FOSCALPatient(patient_dir)\n",
    "    patients.append(patient)"
   ]
  },
  {
   "cell_type": "code",
   "execution_count": 6,
   "metadata": {},
   "outputs": [],
   "source": [
    "modalities = [\"ADC\", \"DWI\"]\n",
    "masks_daniel = patient.get_mask(modalities=modalities, radiologist=\"Daniel\")\n",
    "masks_andres = patient.get_mask(modalities=modalities, radiologist=\"Andres\")"
   ]
  },
  {
   "cell_type": "code",
   "execution_count": 15,
   "metadata": {},
   "outputs": [],
   "source": [
    "idxs_with_annotations = get_idxs_of_annotated_slices(masks_daniel[\"ADC\"])\n",
    "masks_daniel[\"ADC\"] = masks_daniel[\"ADC\"][..., idxs_with_annotations]"
   ]
  },
  {
   "cell_type": "code",
   "execution_count": 11,
   "metadata": {},
   "outputs": [
    {
     "data": {
      "text/plain": [
       "<matplotlib.image.AxesImage at 0x7ff23d34c5e0>"
      ]
     },
     "execution_count": 11,
     "metadata": {},
     "output_type": "execute_result"
    },
    {
     "data": {
      "image/png": "[encoded data removed]",
      "text/plain": [
       "<Figure size 720x720 with 4 Axes>"
      ]
     },
     "metadata": {
      "needs_background": "light"
     },
     "output_type": "display_data"
    }
   ],
   "source": [
    "fig, axs = plt.subplots(2, 2, figsize=(10, 10))\n",
    "axs[0, 0].imshow(masks_daniel[\"ADC\"][..., 12], cmap=\"gray\")\n",
    "axs[0, 1].imshow(masks_daniel[\"DWI\"][..., 12], cmap=\"gray\")\n",
    "axs[1, 0].imshow(masks_andres[\"ADC\"][..., 12], cmap=\"gray\")\n",
    "axs[1, 1].imshow(masks_andres[\"DWI\"][..., 12], cmap=\"gray\")"
   ]
  },
  {
   "cell_type": "code",
   "execution_count": 4,
   "metadata": {},
   "outputs": [
    {
     "data": {
      "text/plain": [
       "<nibabel.nifti1.Nifti1Image at 0x7fb9d60a2880>"
      ]
     },
     "execution_count": 4,
     "metadata": {},
     "output_type": "execute_result"
    }
   ],
   "source": [
    "patient.adc_daniel_mask"
   ]
  },
  {
   "cell_type": "markdown",
   "metadata": {},
   "source": [
    "# Visualize some cases"
   ]
  },
  {
   "cell_type": "code",
   "execution_count": 7,
   "metadata": {},
   "outputs": [],
   "source": [
    "modalities = [\"ADC\", \"DWI\"]\n",
    "normalization = \"min_max\"\n",
    "data = patients[0].get_data(modalities=modalities, normalization=normalization)\n",
    "masks = patients[0].get_mask(modalities=modalities)"
   ]
  },
  {
   "cell_type": "code",
   "execution_count": 17,
   "metadata": {},
   "outputs": [
    {
     "data": {
      "text/plain": [
       "{'sens': 0.5670103090460725,\n",
       " 'spec': 0.9999947907893522,\n",
       " 'ppv': 0.9482758614192914,\n",
       " 'npv': 0.9999270759902217,\n",
       " 'dsc': 0.7096836627169308,\n",
       " 'avd': 0.5032258064516129,\n",
       " 'hd': 135.24052647043342}"
      ]
     },
     "execution_count": 17,
     "metadata": {},
     "output_type": "execute_result"
    }
   ],
   "source": [
    "compute_segmentation_metrics(masks[\"DWI\"], masks[\"ADC\"])"
   ]
  },
  {
   "cell_type": "markdown",
   "metadata": {},
   "source": [
    "# Agreement between radiologists using ADC masks"
   ]
  },
  {
   "cell_type": "code",
   "execution_count": null,
   "metadata": {},
   "outputs": [],
   "source": []
  },
  {
   "cell_type": "markdown",
   "metadata": {},
   "source": [
    "# Agreement between radiologists using DWI masks"
   ]
  },
  {
   "cell_type": "code",
   "execution_count": null,
   "metadata": {},
   "outputs": [],
   "source": []
  },
  {
   "cell_type": "markdown",
   "metadata": {},
   "source": [
    "# Agreement between ADC and DWI masks of the same radiologist"
   ]
  },
  {
   "cell_type": "code",
   "execution_count": null,
   "metadata": {},
   "outputs": [],
   "source": []
  }
 ],
 "metadata": {
  "kernelspec": {
   "display_name": "Python 3",
   "language": "python",
   "name": "python3"
  },
  "language_info": {
   "codemirror_mode": {
    "name": "ipython",
    "version": 3
   },
   "file_extension": ".py",
   "mimetype": "text/x-python",
   "name": "python",
   "nbconvert_exporter": "python",
   "pygments_lexer": "ipython3",
   "version": "3.8.10"
  },
  "vscode": {
   "interpreter": {
    "hash": "916dbcbb3f70747c44a77c7bcd40155683ae19c65e1c03b4aa3499c5328201f1"
   }
  }
 },
 "nbformat": 4,
 "nbformat_minor": 4
}
